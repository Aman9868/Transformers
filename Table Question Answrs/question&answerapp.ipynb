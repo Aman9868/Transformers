{
  "cells": [
    {
      "cell_type": "markdown",
      "source": [
        "**Uploading Document Files**\n",
        "\n",
        "upload using- st.file_uploader (type=pdf,docx,txt)\n",
        "\n",
        "view using- st.text()\n",
        "\n",
        "**For PDF**\n",
        "\n",
        "\n",
        "library used - pdfplumber (extracts all the text data from pdf in pages)\n",
        "\n",
        "extraction used- extract_text()\n",
        "\n",
        "**For Docx**\n",
        "\n",
        "library use-docx2txt\n",
        "\n",
        "processing done usin-docx2txt.process(docfile)\n",
        "\n",
        "view done - st.write(<raw_text>)\n",
        "\n"
      ],
      "metadata": {
        "id": "gzM7NkZSn6x2"
      }
    },
    {
      "cell_type": "code",
      "source": [
        "from transformers import pipeline"
      ],
      "metadata": {
        "id": "ozxy7Tvrnzxc"
      },
      "execution_count": 60,
      "outputs": []
    },
    {
      "cell_type": "code",
      "execution_count": 76,
      "metadata": {
        "colab": {
          "base_uri": "https://localhost:8080/"
        },
        "id": "14LnbKkdNap_",
        "outputId": "2ba636cd-3a43-46ff-f241-248c36d09df0"
      },
      "outputs": [
        {
          "output_type": "stream",
          "name": "stdout",
          "text": [
            "Overwriting app.py\n"
          ]
        }
      ],
      "source": [
        "%%writefile app.py\n",
        "import streamlit as st\n",
        "from transformers import pipeline\n",
        "import docx2txt\n",
        "import pdfplumber\n",
        "\n",
        "\n",
        "def main():\n",
        "  uploaded_file = st.file_uploader(\"Upload Document\",type=['txt','pdf','docx'])  # Give file type extensions\n",
        "  if uploaded_file is not None:\n",
        "    if uploaded_file.type==\"text/plain\": # if the file is txt \n",
        "      raw_text = str(uploaded_file.read(),\"utf-8\") # Read as string\n",
        "      st.text(raw_text)\n",
        "\n",
        "    elif uploaded_file.type==\"application/pdf\":  # if file is pdf\n",
        "\n",
        "      try:\n",
        "        with pdfplumber.open(uploaded_file) as pdf:\n",
        "          pages=pdf.pages[1] # display 1 to 2\n",
        "          st.write(pages.extract_text())  # extract content\n",
        "      except:\n",
        "        st.write(\"None\") # if not found any content\n",
        "    else:\n",
        "      raw_text=docx2txt.process(uploaded_file)\n",
        "      if raw_text != None and raw_text != '':\n",
        "        with st.expander(\"See text\"):\n",
        "          st.write(raw_text)\n",
        "          st.text(raw_text)\n",
        "          question_answerer = pipeline('question-answering')\n",
        "          answer = ''\n",
        "          question = st.text_input('Ask a question')\n",
        "          if question != '' and raw_text != '':\n",
        "            answer = question_answerer({\n",
        "                'question': question,\n",
        "                'context': raw_text\n",
        "            })\n",
        "            st.write(answer)\n",
        "            \n",
        "     \n",
        "  \n",
        "    \n",
        "if __name__ == \"__main__\":\n",
        "  st.title(\"NLP us\")\n",
        "  st.write(\"Upload text, pose questions, get answers\")  \n",
        "  main()\n",
        "  \n",
        "        \n",
        "\n",
        "        \n",
        "\n",
        "\n",
        "        # Display text\n",
        "        \n",
        "            \n",
        "\n",
        "        # Perform question answering\n",
        "        \n",
        "        "
      ]
    },
    {
      "cell_type": "markdown",
      "source": [
        "Run streamlit using **local tunnel**\n",
        "\n",
        "localtunnel exposes your localhost to the world for easy testing and sharing! No need to mess with DNS or deploy just to have others test out your changes.\n",
        "\n",
        "Great for working with browser testing tools like browserling or external api callback services like twilio which require a public url for callbacks."
      ],
      "metadata": {
        "id": "stE4f4m5bGJ9"
      }
    },
    {
      "cell_type": "code",
      "execution_count": 78,
      "metadata": {
        "colab": {
          "base_uri": "https://localhost:8080/"
        },
        "id": "1sBBsNS4MYzb",
        "outputId": "757de638-879b-4683-e1f5-2c3127bda329"
      },
      "outputs": [
        {
          "output_type": "stream",
          "name": "stdout",
          "text": [
            "\u001b[K\u001b[?25hnpx: installed 22 in 2.904s\n",
            "\u001b[0m\n",
            "\u001b[34m\u001b[1m  You can now view your Streamlit app in your browser.\u001b[0m\n",
            "\u001b[0m\n",
            "\u001b[34m  Network URL: \u001b[0m\u001b[1mhttp://172.28.0.2:8501\u001b[0m\n",
            "\u001b[34m  External URL: \u001b[0m\u001b[1mhttp://35.221.26.176:8501\u001b[0m\n",
            "\u001b[0m\n",
            "your url is: https://fresh-lizard-27.loca.lt\n",
            "No model was supplied, defaulted to distilbert-base-cased-distilled-squad (https://huggingface.co/distilbert-base-cased-distilled-squad)\n",
            "No model was supplied, defaulted to distilbert-base-cased-distilled-squad (https://huggingface.co/distilbert-base-cased-distilled-squad)\n",
            "\u001b[34m  Stopping...\u001b[0m\n",
            "^C\n"
          ]
        }
      ],
      "source": [
        "\n",
        "!streamlit run app.py --server.maxUploadSize=1028 & npx localtunnel --port 8501"
      ]
    }
  ],
  "metadata": {
    "colab": {
      "collapsed_sections": [],
      "name": "Untitled0.ipynb",
      "provenance": []
    },
    "kernelspec": {
      "display_name": "Python 3",
      "name": "python3"
    },
    "language_info": {
      "name": "python"
    }
  },
  "nbformat": 4,
  "nbformat_minor": 0
}